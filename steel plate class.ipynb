{
 "cells": [
  {
   "cell_type": "code",
   "execution_count": 1,
   "id": "820a829c",
   "metadata": {},
   "outputs": [],
   "source": [
    "import pandas as pd\n",
    "import numpy as np\n",
    "import matplotlib.pyplot as plt\n",
    "import seaborn as sns"
   ]
  },
  {
   "cell_type": "code",
   "execution_count": 2,
   "id": "26a82159",
   "metadata": {},
   "outputs": [],
   "source": [
    "train= pd.read_csv('train.csv')\n",
    "test = pd.read_csv('test.csv')\n",
    "submission = pd.read_csv('sample_submission.csv')"
   ]
  },
  {
   "cell_type": "code",
   "execution_count": 3,
   "id": "eaf8666d",
   "metadata": {},
   "outputs": [
    {
     "data": {
      "text/plain": [
       "((19219, 35), (12814, 28))"
      ]
     },
     "execution_count": 3,
     "metadata": {},
     "output_type": "execute_result"
    }
   ],
   "source": [
    "train.shape,test.shape"
   ]
  },
  {
   "cell_type": "code",
   "execution_count": 4,
   "id": "4c6fa445",
   "metadata": {},
   "outputs": [
    {
     "data": {
      "text/html": [
       "<div>\n",
       "<style scoped>\n",
       "    .dataframe tbody tr th:only-of-type {\n",
       "        vertical-align: middle;\n",
       "    }\n",
       "\n",
       "    .dataframe tbody tr th {\n",
       "        vertical-align: top;\n",
       "    }\n",
       "\n",
       "    .dataframe thead th {\n",
       "        text-align: right;\n",
       "    }\n",
       "</style>\n",
       "<table border=\"1\" class=\"dataframe\">\n",
       "  <thead>\n",
       "    <tr style=\"text-align: right;\">\n",
       "      <th></th>\n",
       "      <th>id</th>\n",
       "      <th>X_Minimum</th>\n",
       "      <th>X_Maximum</th>\n",
       "      <th>Y_Minimum</th>\n",
       "      <th>Y_Maximum</th>\n",
       "      <th>Pixels_Areas</th>\n",
       "      <th>X_Perimeter</th>\n",
       "      <th>Y_Perimeter</th>\n",
       "      <th>Sum_of_Luminosity</th>\n",
       "      <th>Minimum_of_Luminosity</th>\n",
       "      <th>...</th>\n",
       "      <th>Orientation_Index</th>\n",
       "      <th>Luminosity_Index</th>\n",
       "      <th>SigmoidOfAreas</th>\n",
       "      <th>Pastry</th>\n",
       "      <th>Z_Scratch</th>\n",
       "      <th>K_Scatch</th>\n",
       "      <th>Stains</th>\n",
       "      <th>Dirtiness</th>\n",
       "      <th>Bumps</th>\n",
       "      <th>Other_Faults</th>\n",
       "    </tr>\n",
       "  </thead>\n",
       "  <tbody>\n",
       "    <tr>\n",
       "      <th>0</th>\n",
       "      <td>0</td>\n",
       "      <td>584</td>\n",
       "      <td>590</td>\n",
       "      <td>909972</td>\n",
       "      <td>909977</td>\n",
       "      <td>16</td>\n",
       "      <td>8</td>\n",
       "      <td>5</td>\n",
       "      <td>2274</td>\n",
       "      <td>113</td>\n",
       "      <td>...</td>\n",
       "      <td>-0.5000</td>\n",
       "      <td>-0.0104</td>\n",
       "      <td>0.1417</td>\n",
       "      <td>0</td>\n",
       "      <td>0</td>\n",
       "      <td>0</td>\n",
       "      <td>1</td>\n",
       "      <td>0</td>\n",
       "      <td>0</td>\n",
       "      <td>0</td>\n",
       "    </tr>\n",
       "    <tr>\n",
       "      <th>1</th>\n",
       "      <td>1</td>\n",
       "      <td>808</td>\n",
       "      <td>816</td>\n",
       "      <td>728350</td>\n",
       "      <td>728372</td>\n",
       "      <td>433</td>\n",
       "      <td>20</td>\n",
       "      <td>54</td>\n",
       "      <td>44478</td>\n",
       "      <td>70</td>\n",
       "      <td>...</td>\n",
       "      <td>0.7419</td>\n",
       "      <td>-0.2997</td>\n",
       "      <td>0.9491</td>\n",
       "      <td>0</td>\n",
       "      <td>0</td>\n",
       "      <td>0</td>\n",
       "      <td>0</td>\n",
       "      <td>0</td>\n",
       "      <td>0</td>\n",
       "      <td>1</td>\n",
       "    </tr>\n",
       "  </tbody>\n",
       "</table>\n",
       "<p>2 rows × 35 columns</p>\n",
       "</div>"
      ],
      "text/plain": [
       "   id  X_Minimum  X_Maximum  Y_Minimum  Y_Maximum  Pixels_Areas  X_Perimeter  \\\n",
       "0   0        584        590     909972     909977            16            8   \n",
       "1   1        808        816     728350     728372           433           20   \n",
       "\n",
       "   Y_Perimeter  Sum_of_Luminosity  Minimum_of_Luminosity  ...  \\\n",
       "0            5               2274                    113  ...   \n",
       "1           54              44478                     70  ...   \n",
       "\n",
       "   Orientation_Index  Luminosity_Index  SigmoidOfAreas  Pastry  Z_Scratch  \\\n",
       "0            -0.5000           -0.0104          0.1417       0          0   \n",
       "1             0.7419           -0.2997          0.9491       0          0   \n",
       "\n",
       "   K_Scatch  Stains  Dirtiness  Bumps  Other_Faults  \n",
       "0         0       1          0      0             0  \n",
       "1         0       0          0      0             1  \n",
       "\n",
       "[2 rows x 35 columns]"
      ]
     },
     "execution_count": 4,
     "metadata": {},
     "output_type": "execute_result"
    }
   ],
   "source": [
    "train.head(2)"
   ]
  },
  {
   "cell_type": "code",
   "execution_count": 6,
   "id": "9de24cec",
   "metadata": {},
   "outputs": [],
   "source": [
    "from sklearn.linear_model import LogisticRegression"
   ]
  },
  {
   "cell_type": "code",
   "execution_count": 25,
   "id": "0fde4689",
   "metadata": {},
   "outputs": [],
   "source": [
    "lr_m = LogisticRegression(multi_class='multinomial')"
   ]
  },
  {
   "cell_type": "code",
   "execution_count": null,
   "id": "1edb6b94",
   "metadata": {},
   "outputs": [],
   "source": []
  },
  {
   "cell_type": "code",
   "execution_count": 8,
   "id": "94595225",
   "metadata": {},
   "outputs": [],
   "source": [
    "# Combine train and test"
   ]
  },
  {
   "cell_type": "code",
   "execution_count": 9,
   "id": "f49d858e",
   "metadata": {},
   "outputs": [
    {
     "data": {
      "text/html": [
       "<div>\n",
       "<style scoped>\n",
       "    .dataframe tbody tr th:only-of-type {\n",
       "        vertical-align: middle;\n",
       "    }\n",
       "\n",
       "    .dataframe tbody tr th {\n",
       "        vertical-align: top;\n",
       "    }\n",
       "\n",
       "    .dataframe thead th {\n",
       "        text-align: right;\n",
       "    }\n",
       "</style>\n",
       "<table border=\"1\" class=\"dataframe\">\n",
       "  <thead>\n",
       "    <tr style=\"text-align: right;\">\n",
       "      <th></th>\n",
       "      <th>id</th>\n",
       "      <th>X_Minimum</th>\n",
       "      <th>X_Maximum</th>\n",
       "      <th>Y_Minimum</th>\n",
       "      <th>Y_Maximum</th>\n",
       "      <th>Pixels_Areas</th>\n",
       "      <th>X_Perimeter</th>\n",
       "      <th>Y_Perimeter</th>\n",
       "      <th>Sum_of_Luminosity</th>\n",
       "      <th>Minimum_of_Luminosity</th>\n",
       "      <th>...</th>\n",
       "      <th>Outside_X_Index</th>\n",
       "      <th>Edges_X_Index</th>\n",
       "      <th>Edges_Y_Index</th>\n",
       "      <th>Outside_Global_Index</th>\n",
       "      <th>LogOfAreas</th>\n",
       "      <th>Log_X_Index</th>\n",
       "      <th>Log_Y_Index</th>\n",
       "      <th>Orientation_Index</th>\n",
       "      <th>Luminosity_Index</th>\n",
       "      <th>SigmoidOfAreas</th>\n",
       "    </tr>\n",
       "  </thead>\n",
       "  <tbody>\n",
       "    <tr>\n",
       "      <th>0</th>\n",
       "      <td>19219</td>\n",
       "      <td>1015</td>\n",
       "      <td>1033</td>\n",
       "      <td>3826564</td>\n",
       "      <td>3826588</td>\n",
       "      <td>659</td>\n",
       "      <td>23</td>\n",
       "      <td>46</td>\n",
       "      <td>62357</td>\n",
       "      <td>67</td>\n",
       "      <td>...</td>\n",
       "      <td>0.0095</td>\n",
       "      <td>0.5652</td>\n",
       "      <td>1.0</td>\n",
       "      <td>1.0</td>\n",
       "      <td>2.8410</td>\n",
       "      <td>1.1139</td>\n",
       "      <td>1.6628</td>\n",
       "      <td>0.6727</td>\n",
       "      <td>-0.2261</td>\n",
       "      <td>0.9172</td>\n",
       "    </tr>\n",
       "    <tr>\n",
       "      <th>1</th>\n",
       "      <td>19220</td>\n",
       "      <td>1257</td>\n",
       "      <td>1271</td>\n",
       "      <td>419960</td>\n",
       "      <td>419973</td>\n",
       "      <td>370</td>\n",
       "      <td>26</td>\n",
       "      <td>28</td>\n",
       "      <td>39293</td>\n",
       "      <td>92</td>\n",
       "      <td>...</td>\n",
       "      <td>0.0047</td>\n",
       "      <td>0.2414</td>\n",
       "      <td>1.0</td>\n",
       "      <td>1.0</td>\n",
       "      <td>2.5682</td>\n",
       "      <td>0.9031</td>\n",
       "      <td>1.4472</td>\n",
       "      <td>0.9063</td>\n",
       "      <td>-0.1453</td>\n",
       "      <td>0.9104</td>\n",
       "    </tr>\n",
       "  </tbody>\n",
       "</table>\n",
       "<p>2 rows × 28 columns</p>\n",
       "</div>"
      ],
      "text/plain": [
       "      id  X_Minimum  X_Maximum  Y_Minimum  Y_Maximum  Pixels_Areas  \\\n",
       "0  19219       1015       1033    3826564    3826588           659   \n",
       "1  19220       1257       1271     419960     419973           370   \n",
       "\n",
       "   X_Perimeter  Y_Perimeter  Sum_of_Luminosity  Minimum_of_Luminosity  ...  \\\n",
       "0           23           46              62357                     67  ...   \n",
       "1           26           28              39293                     92  ...   \n",
       "\n",
       "   Outside_X_Index  Edges_X_Index  Edges_Y_Index  Outside_Global_Index  \\\n",
       "0           0.0095         0.5652            1.0                   1.0   \n",
       "1           0.0047         0.2414            1.0                   1.0   \n",
       "\n",
       "   LogOfAreas  Log_X_Index  Log_Y_Index  Orientation_Index  Luminosity_Index  \\\n",
       "0      2.8410       1.1139       1.6628             0.6727           -0.2261   \n",
       "1      2.5682       0.9031       1.4472             0.9063           -0.1453   \n",
       "\n",
       "   SigmoidOfAreas  \n",
       "0          0.9172  \n",
       "1          0.9104  \n",
       "\n",
       "[2 rows x 28 columns]"
      ]
     },
     "execution_count": 9,
     "metadata": {},
     "output_type": "execute_result"
    }
   ],
   "source": [
    "test.head(2)"
   ]
  },
  {
   "cell_type": "code",
   "execution_count": 8,
   "id": "bb3e0b56",
   "metadata": {},
   "outputs": [],
   "source": [
    "data = pd.concat([train,test],axis=0)"
   ]
  },
  {
   "cell_type": "code",
   "execution_count": 9,
   "id": "5cdae34a",
   "metadata": {},
   "outputs": [
    {
     "data": {
      "text/plain": [
       "(32033, 35)"
      ]
     },
     "execution_count": 9,
     "metadata": {},
     "output_type": "execute_result"
    }
   ],
   "source": [
    "data.shape"
   ]
  },
  {
   "cell_type": "code",
   "execution_count": 10,
   "id": "a2eea2ae",
   "metadata": {},
   "outputs": [
    {
     "data": {
      "text/html": [
       "<div>\n",
       "<style scoped>\n",
       "    .dataframe tbody tr th:only-of-type {\n",
       "        vertical-align: middle;\n",
       "    }\n",
       "\n",
       "    .dataframe tbody tr th {\n",
       "        vertical-align: top;\n",
       "    }\n",
       "\n",
       "    .dataframe thead th {\n",
       "        text-align: right;\n",
       "    }\n",
       "</style>\n",
       "<table border=\"1\" class=\"dataframe\">\n",
       "  <thead>\n",
       "    <tr style=\"text-align: right;\">\n",
       "      <th></th>\n",
       "      <th>id</th>\n",
       "      <th>X_Minimum</th>\n",
       "      <th>X_Maximum</th>\n",
       "      <th>Y_Minimum</th>\n",
       "      <th>Y_Maximum</th>\n",
       "      <th>Pixels_Areas</th>\n",
       "      <th>X_Perimeter</th>\n",
       "      <th>Y_Perimeter</th>\n",
       "      <th>Sum_of_Luminosity</th>\n",
       "      <th>Minimum_of_Luminosity</th>\n",
       "      <th>...</th>\n",
       "      <th>Orientation_Index</th>\n",
       "      <th>Luminosity_Index</th>\n",
       "      <th>SigmoidOfAreas</th>\n",
       "      <th>Pastry</th>\n",
       "      <th>Z_Scratch</th>\n",
       "      <th>K_Scatch</th>\n",
       "      <th>Stains</th>\n",
       "      <th>Dirtiness</th>\n",
       "      <th>Bumps</th>\n",
       "      <th>Other_Faults</th>\n",
       "    </tr>\n",
       "  </thead>\n",
       "  <tbody>\n",
       "    <tr>\n",
       "      <th>0</th>\n",
       "      <td>0</td>\n",
       "      <td>584</td>\n",
       "      <td>590</td>\n",
       "      <td>909972</td>\n",
       "      <td>909977</td>\n",
       "      <td>16</td>\n",
       "      <td>8</td>\n",
       "      <td>5</td>\n",
       "      <td>2274</td>\n",
       "      <td>113</td>\n",
       "      <td>...</td>\n",
       "      <td>-0.5000</td>\n",
       "      <td>-0.0104</td>\n",
       "      <td>0.1417</td>\n",
       "      <td>0.0</td>\n",
       "      <td>0.0</td>\n",
       "      <td>0.0</td>\n",
       "      <td>1.0</td>\n",
       "      <td>0.0</td>\n",
       "      <td>0.0</td>\n",
       "      <td>0.0</td>\n",
       "    </tr>\n",
       "    <tr>\n",
       "      <th>1</th>\n",
       "      <td>1</td>\n",
       "      <td>808</td>\n",
       "      <td>816</td>\n",
       "      <td>728350</td>\n",
       "      <td>728372</td>\n",
       "      <td>433</td>\n",
       "      <td>20</td>\n",
       "      <td>54</td>\n",
       "      <td>44478</td>\n",
       "      <td>70</td>\n",
       "      <td>...</td>\n",
       "      <td>0.7419</td>\n",
       "      <td>-0.2997</td>\n",
       "      <td>0.9491</td>\n",
       "      <td>0.0</td>\n",
       "      <td>0.0</td>\n",
       "      <td>0.0</td>\n",
       "      <td>0.0</td>\n",
       "      <td>0.0</td>\n",
       "      <td>0.0</td>\n",
       "      <td>1.0</td>\n",
       "    </tr>\n",
       "  </tbody>\n",
       "</table>\n",
       "<p>2 rows × 35 columns</p>\n",
       "</div>"
      ],
      "text/plain": [
       "   id  X_Minimum  X_Maximum  Y_Minimum  Y_Maximum  Pixels_Areas  X_Perimeter  \\\n",
       "0   0        584        590     909972     909977            16            8   \n",
       "1   1        808        816     728350     728372           433           20   \n",
       "\n",
       "   Y_Perimeter  Sum_of_Luminosity  Minimum_of_Luminosity  ...  \\\n",
       "0            5               2274                    113  ...   \n",
       "1           54              44478                     70  ...   \n",
       "\n",
       "   Orientation_Index  Luminosity_Index  SigmoidOfAreas  Pastry  Z_Scratch  \\\n",
       "0            -0.5000           -0.0104          0.1417     0.0        0.0   \n",
       "1             0.7419           -0.2997          0.9491     0.0        0.0   \n",
       "\n",
       "   K_Scatch  Stains  Dirtiness  Bumps  Other_Faults  \n",
       "0       0.0     1.0        0.0    0.0           0.0  \n",
       "1       0.0     0.0        0.0    0.0           1.0  \n",
       "\n",
       "[2 rows x 35 columns]"
      ]
     },
     "execution_count": 10,
     "metadata": {},
     "output_type": "execute_result"
    }
   ],
   "source": [
    "data.head(2)"
   ]
  },
  {
   "cell_type": "code",
   "execution_count": 11,
   "id": "28bdaa8d",
   "metadata": {},
   "outputs": [
    {
     "data": {
      "text/plain": [
       "id                           0\n",
       "X_Minimum                    0\n",
       "X_Maximum                    0\n",
       "Y_Minimum                    0\n",
       "Y_Maximum                    0\n",
       "Pixels_Areas                 0\n",
       "X_Perimeter                  0\n",
       "Y_Perimeter                  0\n",
       "Sum_of_Luminosity            0\n",
       "Minimum_of_Luminosity        0\n",
       "Maximum_of_Luminosity        0\n",
       "Length_of_Conveyer           0\n",
       "TypeOfSteel_A300             0\n",
       "TypeOfSteel_A400             0\n",
       "Steel_Plate_Thickness        0\n",
       "Edges_Index                  0\n",
       "Empty_Index                  0\n",
       "Square_Index                 0\n",
       "Outside_X_Index              0\n",
       "Edges_X_Index                0\n",
       "Edges_Y_Index                0\n",
       "Outside_Global_Index         0\n",
       "LogOfAreas                   0\n",
       "Log_X_Index                  0\n",
       "Log_Y_Index                  0\n",
       "Orientation_Index            0\n",
       "Luminosity_Index             0\n",
       "SigmoidOfAreas               0\n",
       "Pastry                   12814\n",
       "Z_Scratch                12814\n",
       "K_Scatch                 12814\n",
       "Stains                   12814\n",
       "Dirtiness                12814\n",
       "Bumps                    12814\n",
       "Other_Faults             12814\n",
       "dtype: int64"
      ]
     },
     "execution_count": 11,
     "metadata": {},
     "output_type": "execute_result"
    }
   ],
   "source": [
    "data.isnull().sum()"
   ]
  },
  {
   "cell_type": "code",
   "execution_count": 12,
   "id": "7bc838a1",
   "metadata": {},
   "outputs": [],
   "source": [
    "data.drop(columns=['id'],inplace=True)"
   ]
  },
  {
   "cell_type": "code",
   "execution_count": 13,
   "id": "858b503f",
   "metadata": {},
   "outputs": [
    {
     "data": {
      "text/html": [
       "<div>\n",
       "<style scoped>\n",
       "    .dataframe tbody tr th:only-of-type {\n",
       "        vertical-align: middle;\n",
       "    }\n",
       "\n",
       "    .dataframe tbody tr th {\n",
       "        vertical-align: top;\n",
       "    }\n",
       "\n",
       "    .dataframe thead th {\n",
       "        text-align: right;\n",
       "    }\n",
       "</style>\n",
       "<table border=\"1\" class=\"dataframe\">\n",
       "  <thead>\n",
       "    <tr style=\"text-align: right;\">\n",
       "      <th></th>\n",
       "      <th>X_Minimum</th>\n",
       "      <th>X_Maximum</th>\n",
       "      <th>Y_Minimum</th>\n",
       "      <th>Y_Maximum</th>\n",
       "      <th>Pixels_Areas</th>\n",
       "      <th>X_Perimeter</th>\n",
       "      <th>Y_Perimeter</th>\n",
       "      <th>Sum_of_Luminosity</th>\n",
       "      <th>Minimum_of_Luminosity</th>\n",
       "      <th>Maximum_of_Luminosity</th>\n",
       "      <th>...</th>\n",
       "      <th>Orientation_Index</th>\n",
       "      <th>Luminosity_Index</th>\n",
       "      <th>SigmoidOfAreas</th>\n",
       "      <th>Pastry</th>\n",
       "      <th>Z_Scratch</th>\n",
       "      <th>K_Scatch</th>\n",
       "      <th>Stains</th>\n",
       "      <th>Dirtiness</th>\n",
       "      <th>Bumps</th>\n",
       "      <th>Other_Faults</th>\n",
       "    </tr>\n",
       "  </thead>\n",
       "  <tbody>\n",
       "    <tr>\n",
       "      <th>0</th>\n",
       "      <td>584</td>\n",
       "      <td>590</td>\n",
       "      <td>909972</td>\n",
       "      <td>909977</td>\n",
       "      <td>16</td>\n",
       "      <td>8</td>\n",
       "      <td>5</td>\n",
       "      <td>2274</td>\n",
       "      <td>113</td>\n",
       "      <td>140</td>\n",
       "      <td>...</td>\n",
       "      <td>-0.5000</td>\n",
       "      <td>-0.0104</td>\n",
       "      <td>0.1417</td>\n",
       "      <td>0.0</td>\n",
       "      <td>0.0</td>\n",
       "      <td>0.0</td>\n",
       "      <td>1.0</td>\n",
       "      <td>0.0</td>\n",
       "      <td>0.0</td>\n",
       "      <td>0.0</td>\n",
       "    </tr>\n",
       "    <tr>\n",
       "      <th>1</th>\n",
       "      <td>808</td>\n",
       "      <td>816</td>\n",
       "      <td>728350</td>\n",
       "      <td>728372</td>\n",
       "      <td>433</td>\n",
       "      <td>20</td>\n",
       "      <td>54</td>\n",
       "      <td>44478</td>\n",
       "      <td>70</td>\n",
       "      <td>111</td>\n",
       "      <td>...</td>\n",
       "      <td>0.7419</td>\n",
       "      <td>-0.2997</td>\n",
       "      <td>0.9491</td>\n",
       "      <td>0.0</td>\n",
       "      <td>0.0</td>\n",
       "      <td>0.0</td>\n",
       "      <td>0.0</td>\n",
       "      <td>0.0</td>\n",
       "      <td>0.0</td>\n",
       "      <td>1.0</td>\n",
       "    </tr>\n",
       "  </tbody>\n",
       "</table>\n",
       "<p>2 rows × 34 columns</p>\n",
       "</div>"
      ],
      "text/plain": [
       "   X_Minimum  X_Maximum  Y_Minimum  Y_Maximum  Pixels_Areas  X_Perimeter  \\\n",
       "0        584        590     909972     909977            16            8   \n",
       "1        808        816     728350     728372           433           20   \n",
       "\n",
       "   Y_Perimeter  Sum_of_Luminosity  Minimum_of_Luminosity  \\\n",
       "0            5               2274                    113   \n",
       "1           54              44478                     70   \n",
       "\n",
       "   Maximum_of_Luminosity  ...  Orientation_Index  Luminosity_Index  \\\n",
       "0                    140  ...            -0.5000           -0.0104   \n",
       "1                    111  ...             0.7419           -0.2997   \n",
       "\n",
       "   SigmoidOfAreas  Pastry  Z_Scratch  K_Scatch  Stains  Dirtiness  Bumps  \\\n",
       "0          0.1417     0.0        0.0       0.0     1.0        0.0    0.0   \n",
       "1          0.9491     0.0        0.0       0.0     0.0        0.0    0.0   \n",
       "\n",
       "   Other_Faults  \n",
       "0           0.0  \n",
       "1           1.0  \n",
       "\n",
       "[2 rows x 34 columns]"
      ]
     },
     "execution_count": 13,
     "metadata": {},
     "output_type": "execute_result"
    }
   ],
   "source": [
    "data.head(2)"
   ]
  },
  {
   "cell_type": "code",
   "execution_count": 14,
   "id": "0d60ae75",
   "metadata": {},
   "outputs": [],
   "source": [
    "# x_train,y_train,x_test,y_test,x_pred"
   ]
  },
  {
   "cell_type": "code",
   "execution_count": 15,
   "id": "f128d165",
   "metadata": {},
   "outputs": [],
   "source": [
    "x_pred = data[data['Z_Scratch'].isnull()]"
   ]
  },
  {
   "cell_type": "code",
   "execution_count": 16,
   "id": "94ca4fdf",
   "metadata": {},
   "outputs": [],
   "source": [
    "remain_data = data[data['Z_Scratch'].notnull()]"
   ]
  },
  {
   "cell_type": "code",
   "execution_count": 17,
   "id": "351f9346",
   "metadata": {},
   "outputs": [
    {
     "data": {
      "text/plain": [
       "Index(['id', 'Pastry', 'Z_Scratch', 'K_Scatch', 'Stains', 'Dirtiness', 'Bumps',\n",
       "       'Other_Faults'],\n",
       "      dtype='object')"
      ]
     },
     "execution_count": 17,
     "metadata": {},
     "output_type": "execute_result"
    }
   ],
   "source": [
    "submission.columns"
   ]
  },
  {
   "cell_type": "code",
   "execution_count": 26,
   "id": "1d28c845",
   "metadata": {},
   "outputs": [],
   "source": [
    "x = remain_data.drop(columns=['Pastry', 'Z_Scratch', 'K_Scatch', 'Stains', 'Dirtiness', 'Bumps',\n",
    "       'Other_Faults'])\n",
    "y = remain_data[['Pastry', 'Z_Scratch', 'K_Scatch', 'Stains', 'Dirtiness', 'Bumps',\n",
    "       'Other_Faults']]"
   ]
  },
  {
   "cell_type": "code",
   "execution_count": 27,
   "id": "c223c069",
   "metadata": {},
   "outputs": [],
   "source": [
    "from sklearn.model_selection import train_test_split"
   ]
  },
  {
   "cell_type": "code",
   "execution_count": 28,
   "id": "02082cf2",
   "metadata": {},
   "outputs": [],
   "source": [
    "xtrain,xtest,ytrain,ytest = train_test_split(x,y,train_size=0.75)"
   ]
  },
  {
   "cell_type": "code",
   "execution_count": 29,
   "id": "fea9632f",
   "metadata": {},
   "outputs": [
    {
     "data": {
      "text/plain": [
       "((14414, 27), (4805, 27), (14414, 7), (4805, 7))"
      ]
     },
     "execution_count": 29,
     "metadata": {},
     "output_type": "execute_result"
    }
   ],
   "source": [
    "xtrain.shape,xtest.shape,ytrain.shape,ytest.shape"
   ]
  },
  {
   "cell_type": "code",
   "execution_count": 30,
   "id": "1e3a79c1",
   "metadata": {},
   "outputs": [],
   "source": [
    "y_cols = ['Pastry', 'Z_Scratch', 'K_Scatch', 'Stains', 'Dirtiness', 'Bumps',\n",
    "       'Other_Faults']"
   ]
  },
  {
   "cell_type": "code",
   "execution_count": 23,
   "id": "7a721f45",
   "metadata": {},
   "outputs": [],
   "source": [
    "from sklearn.tree import DecisionTreeClassifier,plot_tree\n",
    "from sklearn.naive_bayes import GaussianNB\n",
    "from sklearn.metrics import roc_auc_score,classification_report,confusion_matrix"
   ]
  },
  {
   "cell_type": "code",
   "execution_count": null,
   "id": "c2af6627",
   "metadata": {},
   "outputs": [],
   "source": []
  },
  {
   "cell_type": "code",
   "execution_count": 31,
   "id": "6575eedf",
   "metadata": {},
   "outputs": [
    {
     "name": "stderr",
     "output_type": "stream",
     "text": [
      "C:\\ProgramData\\anaconda3\\Lib\\site-packages\\sklearn\\linear_model\\_logistic.py:460: ConvergenceWarning: lbfgs failed to converge (status=1):\n",
      "STOP: TOTAL NO. of ITERATIONS REACHED LIMIT.\n",
      "\n",
      "Increase the number of iterations (max_iter) or scale the data as shown in:\n",
      "    https://scikit-learn.org/stable/modules/preprocessing.html\n",
      "Please also refer to the documentation for alternative solver options:\n",
      "    https://scikit-learn.org/stable/modules/linear_model.html#logistic-regression\n",
      "  n_iter_i = _check_optimize_result(\n"
     ]
    }
   ],
   "source": [
    "auc_s = []\n",
    "for i in y_cols:\n",
    "    \n",
    "    model = lr_m\n",
    "    model.fit(xtrain,ytrain[i])\n",
    "    prob = model.predict_proba(xtest)[:,1]\n",
    "    auc = roc_auc_score(ytest[i],prob)\n",
    "    auc_s.append(auc)"
   ]
  },
  {
   "cell_type": "code",
   "execution_count": 32,
   "id": "26cac67f",
   "metadata": {},
   "outputs": [
    {
     "data": {
      "text/plain": [
       "0.7294777561272341"
      ]
     },
     "execution_count": 32,
     "metadata": {},
     "output_type": "execute_result"
    }
   ],
   "source": [
    "np.mean(auc_s)"
   ]
  },
  {
   "cell_type": "code",
   "execution_count": 59,
   "id": "50ab4eb5",
   "metadata": {},
   "outputs": [
    {
     "name": "stderr",
     "output_type": "stream",
     "text": [
      "C:\\Users\\MS\\AppData\\Local\\Temp\\ipykernel_9044\\3841211628.py:1: SettingWithCopyWarning: \n",
      "A value is trying to be set on a copy of a slice from a DataFrame\n",
      "\n",
      "See the caveats in the documentation: https://pandas.pydata.org/pandas-docs/stable/user_guide/indexing.html#returning-a-view-versus-a-copy\n",
      "  x_pred.drop(columns=y_cols,inplace=True)\n"
     ]
    }
   ],
   "source": [
    "x_pred.drop(columns=y_cols,inplace=True)"
   ]
  },
  {
   "cell_type": "code",
   "execution_count": 62,
   "id": "61eb84c5",
   "metadata": {},
   "outputs": [],
   "source": [
    "auc_s = []\n",
    "accuracy = []\n",
    "for i in y_cols:\n",
    "    #model train\n",
    "    model = DecisionTreeClassifier(max_depth=6)\n",
    "    model.fit(xtrain,ytrain[i])\n",
    "    #model validation\n",
    "    score = model.score(xtest,ytest[i])\n",
    "    prob = model.predict_proba(xtest)[:,1]\n",
    "    auc = roc_auc_score(ytest[i],prob)\n",
    "    accuracy.append(score)\n",
    "    auc_s.append(auc)\n",
    "    #model prediction\n",
    "    final_prob = model.predict_proba(x_pred)[:,1]\n",
    "    submission[i] = final_prob\n",
    "    "
   ]
  },
  {
   "cell_type": "code",
   "execution_count": 63,
   "id": "ed83ce83",
   "metadata": {},
   "outputs": [
    {
     "data": {
      "text/html": [
       "<div>\n",
       "<style scoped>\n",
       "    .dataframe tbody tr th:only-of-type {\n",
       "        vertical-align: middle;\n",
       "    }\n",
       "\n",
       "    .dataframe tbody tr th {\n",
       "        vertical-align: top;\n",
       "    }\n",
       "\n",
       "    .dataframe thead th {\n",
       "        text-align: right;\n",
       "    }\n",
       "</style>\n",
       "<table border=\"1\" class=\"dataframe\">\n",
       "  <thead>\n",
       "    <tr style=\"text-align: right;\">\n",
       "      <th></th>\n",
       "      <th>id</th>\n",
       "      <th>Pastry</th>\n",
       "      <th>Z_Scratch</th>\n",
       "      <th>K_Scatch</th>\n",
       "      <th>Stains</th>\n",
       "      <th>Dirtiness</th>\n",
       "      <th>Bumps</th>\n",
       "      <th>Other_Faults</th>\n",
       "    </tr>\n",
       "  </thead>\n",
       "  <tbody>\n",
       "    <tr>\n",
       "      <th>0</th>\n",
       "      <td>19219</td>\n",
       "      <td>0.330779</td>\n",
       "      <td>0.000658</td>\n",
       "      <td>0.000596</td>\n",
       "      <td>0.00053</td>\n",
       "      <td>0.031891</td>\n",
       "      <td>0.102564</td>\n",
       "      <td>0.166667</td>\n",
       "    </tr>\n",
       "    <tr>\n",
       "      <th>1</th>\n",
       "      <td>19220</td>\n",
       "      <td>0.138989</td>\n",
       "      <td>0.006780</td>\n",
       "      <td>0.045659</td>\n",
       "      <td>0.00053</td>\n",
       "      <td>0.181395</td>\n",
       "      <td>0.167987</td>\n",
       "      <td>0.349739</td>\n",
       "    </tr>\n",
       "    <tr>\n",
       "      <th>2</th>\n",
       "      <td>19221</td>\n",
       "      <td>0.000222</td>\n",
       "      <td>0.042414</td>\n",
       "      <td>0.045659</td>\n",
       "      <td>0.00053</td>\n",
       "      <td>0.010516</td>\n",
       "      <td>0.379074</td>\n",
       "      <td>0.433498</td>\n",
       "    </tr>\n",
       "    <tr>\n",
       "      <th>3</th>\n",
       "      <td>19222</td>\n",
       "      <td>0.123529</td>\n",
       "      <td>0.000000</td>\n",
       "      <td>0.000596</td>\n",
       "      <td>0.00053</td>\n",
       "      <td>0.010516</td>\n",
       "      <td>0.513378</td>\n",
       "      <td>0.370844</td>\n",
       "    </tr>\n",
       "    <tr>\n",
       "      <th>4</th>\n",
       "      <td>19223</td>\n",
       "      <td>0.000222</td>\n",
       "      <td>0.000658</td>\n",
       "      <td>0.000596</td>\n",
       "      <td>0.00053</td>\n",
       "      <td>0.010516</td>\n",
       "      <td>0.445078</td>\n",
       "      <td>0.546003</td>\n",
       "    </tr>\n",
       "    <tr>\n",
       "      <th>...</th>\n",
       "      <td>...</td>\n",
       "      <td>...</td>\n",
       "      <td>...</td>\n",
       "      <td>...</td>\n",
       "      <td>...</td>\n",
       "      <td>...</td>\n",
       "      <td>...</td>\n",
       "      <td>...</td>\n",
       "    </tr>\n",
       "    <tr>\n",
       "      <th>12809</th>\n",
       "      <td>32028</td>\n",
       "      <td>0.051181</td>\n",
       "      <td>0.142857</td>\n",
       "      <td>0.000596</td>\n",
       "      <td>0.00053</td>\n",
       "      <td>0.078278</td>\n",
       "      <td>0.600000</td>\n",
       "      <td>0.412500</td>\n",
       "    </tr>\n",
       "    <tr>\n",
       "      <th>12810</th>\n",
       "      <td>32029</td>\n",
       "      <td>0.138989</td>\n",
       "      <td>0.005138</td>\n",
       "      <td>0.045659</td>\n",
       "      <td>0.01380</td>\n",
       "      <td>0.078278</td>\n",
       "      <td>0.060302</td>\n",
       "      <td>0.348609</td>\n",
       "    </tr>\n",
       "    <tr>\n",
       "      <th>12811</th>\n",
       "      <td>32030</td>\n",
       "      <td>0.000222</td>\n",
       "      <td>0.000658</td>\n",
       "      <td>0.943059</td>\n",
       "      <td>0.00053</td>\n",
       "      <td>0.001386</td>\n",
       "      <td>0.000000</td>\n",
       "      <td>0.136646</td>\n",
       "    </tr>\n",
       "    <tr>\n",
       "      <th>12812</th>\n",
       "      <td>32031</td>\n",
       "      <td>0.489796</td>\n",
       "      <td>0.005138</td>\n",
       "      <td>0.045659</td>\n",
       "      <td>0.00053</td>\n",
       "      <td>0.106667</td>\n",
       "      <td>0.060302</td>\n",
       "      <td>0.435424</td>\n",
       "    </tr>\n",
       "    <tr>\n",
       "      <th>12813</th>\n",
       "      <td>32032</td>\n",
       "      <td>0.037559</td>\n",
       "      <td>0.122807</td>\n",
       "      <td>0.868421</td>\n",
       "      <td>0.00053</td>\n",
       "      <td>0.001386</td>\n",
       "      <td>0.000000</td>\n",
       "      <td>0.053484</td>\n",
       "    </tr>\n",
       "  </tbody>\n",
       "</table>\n",
       "<p>12814 rows × 8 columns</p>\n",
       "</div>"
      ],
      "text/plain": [
       "          id    Pastry  Z_Scratch  K_Scatch   Stains  Dirtiness     Bumps  \\\n",
       "0      19219  0.330779   0.000658  0.000596  0.00053   0.031891  0.102564   \n",
       "1      19220  0.138989   0.006780  0.045659  0.00053   0.181395  0.167987   \n",
       "2      19221  0.000222   0.042414  0.045659  0.00053   0.010516  0.379074   \n",
       "3      19222  0.123529   0.000000  0.000596  0.00053   0.010516  0.513378   \n",
       "4      19223  0.000222   0.000658  0.000596  0.00053   0.010516  0.445078   \n",
       "...      ...       ...        ...       ...      ...        ...       ...   \n",
       "12809  32028  0.051181   0.142857  0.000596  0.00053   0.078278  0.600000   \n",
       "12810  32029  0.138989   0.005138  0.045659  0.01380   0.078278  0.060302   \n",
       "12811  32030  0.000222   0.000658  0.943059  0.00053   0.001386  0.000000   \n",
       "12812  32031  0.489796   0.005138  0.045659  0.00053   0.106667  0.060302   \n",
       "12813  32032  0.037559   0.122807  0.868421  0.00053   0.001386  0.000000   \n",
       "\n",
       "       Other_Faults  \n",
       "0          0.166667  \n",
       "1          0.349739  \n",
       "2          0.433498  \n",
       "3          0.370844  \n",
       "4          0.546003  \n",
       "...             ...  \n",
       "12809      0.412500  \n",
       "12810      0.348609  \n",
       "12811      0.136646  \n",
       "12812      0.435424  \n",
       "12813      0.053484  \n",
       "\n",
       "[12814 rows x 8 columns]"
      ]
     },
     "execution_count": 63,
     "metadata": {},
     "output_type": "execute_result"
    }
   ],
   "source": [
    "submission"
   ]
  },
  {
   "cell_type": "code",
   "execution_count": 57,
   "id": "92021068",
   "metadata": {},
   "outputs": [
    {
     "data": {
      "text/plain": [
       "0.8899955403597444"
      ]
     },
     "execution_count": 57,
     "metadata": {},
     "output_type": "execute_result"
    }
   ],
   "source": [
    "np.mean(accuracy)"
   ]
  },
  {
   "cell_type": "code",
   "execution_count": 39,
   "id": "b38700e5",
   "metadata": {},
   "outputs": [
    {
     "data": {
      "text/plain": [
       "0.8373928738838089"
      ]
     },
     "execution_count": 39,
     "metadata": {},
     "output_type": "execute_result"
    }
   ],
   "source": [
    "np.mean(auc_s)"
   ]
  },
  {
   "cell_type": "code",
   "execution_count": 40,
   "id": "f9d107ab",
   "metadata": {},
   "outputs": [],
   "source": [
    "dt = DecisionTreeClassifier(max_depth=6)"
   ]
  },
  {
   "cell_type": "code",
   "execution_count": 41,
   "id": "5b9e0b39",
   "metadata": {},
   "outputs": [
    {
     "data": {
      "text/html": [
       "<style>#sk-container-id-1 {color: black;}#sk-container-id-1 pre{padding: 0;}#sk-container-id-1 div.sk-toggleable {background-color: white;}#sk-container-id-1 label.sk-toggleable__label {cursor: pointer;display: block;width: 100%;margin-bottom: 0;padding: 0.3em;box-sizing: border-box;text-align: center;}#sk-container-id-1 label.sk-toggleable__label-arrow:before {content: \"▸\";float: left;margin-right: 0.25em;color: #696969;}#sk-container-id-1 label.sk-toggleable__label-arrow:hover:before {color: black;}#sk-container-id-1 div.sk-estimator:hover label.sk-toggleable__label-arrow:before {color: black;}#sk-container-id-1 div.sk-toggleable__content {max-height: 0;max-width: 0;overflow: hidden;text-align: left;background-color: #f0f8ff;}#sk-container-id-1 div.sk-toggleable__content pre {margin: 0.2em;color: black;border-radius: 0.25em;background-color: #f0f8ff;}#sk-container-id-1 input.sk-toggleable__control:checked~div.sk-toggleable__content {max-height: 200px;max-width: 100%;overflow: auto;}#sk-container-id-1 input.sk-toggleable__control:checked~label.sk-toggleable__label-arrow:before {content: \"▾\";}#sk-container-id-1 div.sk-estimator input.sk-toggleable__control:checked~label.sk-toggleable__label {background-color: #d4ebff;}#sk-container-id-1 div.sk-label input.sk-toggleable__control:checked~label.sk-toggleable__label {background-color: #d4ebff;}#sk-container-id-1 input.sk-hidden--visually {border: 0;clip: rect(1px 1px 1px 1px);clip: rect(1px, 1px, 1px, 1px);height: 1px;margin: -1px;overflow: hidden;padding: 0;position: absolute;width: 1px;}#sk-container-id-1 div.sk-estimator {font-family: monospace;background-color: #f0f8ff;border: 1px dotted black;border-radius: 0.25em;box-sizing: border-box;margin-bottom: 0.5em;}#sk-container-id-1 div.sk-estimator:hover {background-color: #d4ebff;}#sk-container-id-1 div.sk-parallel-item::after {content: \"\";width: 100%;border-bottom: 1px solid gray;flex-grow: 1;}#sk-container-id-1 div.sk-label:hover label.sk-toggleable__label {background-color: #d4ebff;}#sk-container-id-1 div.sk-serial::before {content: \"\";position: absolute;border-left: 1px solid gray;box-sizing: border-box;top: 0;bottom: 0;left: 50%;z-index: 0;}#sk-container-id-1 div.sk-serial {display: flex;flex-direction: column;align-items: center;background-color: white;padding-right: 0.2em;padding-left: 0.2em;position: relative;}#sk-container-id-1 div.sk-item {position: relative;z-index: 1;}#sk-container-id-1 div.sk-parallel {display: flex;align-items: stretch;justify-content: center;background-color: white;position: relative;}#sk-container-id-1 div.sk-item::before, #sk-container-id-1 div.sk-parallel-item::before {content: \"\";position: absolute;border-left: 1px solid gray;box-sizing: border-box;top: 0;bottom: 0;left: 50%;z-index: -1;}#sk-container-id-1 div.sk-parallel-item {display: flex;flex-direction: column;z-index: 1;position: relative;background-color: white;}#sk-container-id-1 div.sk-parallel-item:first-child::after {align-self: flex-end;width: 50%;}#sk-container-id-1 div.sk-parallel-item:last-child::after {align-self: flex-start;width: 50%;}#sk-container-id-1 div.sk-parallel-item:only-child::after {width: 0;}#sk-container-id-1 div.sk-dashed-wrapped {border: 1px dashed gray;margin: 0 0.4em 0.5em 0.4em;box-sizing: border-box;padding-bottom: 0.4em;background-color: white;}#sk-container-id-1 div.sk-label label {font-family: monospace;font-weight: bold;display: inline-block;line-height: 1.2em;}#sk-container-id-1 div.sk-label-container {text-align: center;}#sk-container-id-1 div.sk-container {/* jupyter's `normalize.less` sets `[hidden] { display: none; }` but bootstrap.min.css set `[hidden] { display: none !important; }` so we also need the `!important` here to be able to override the default hidden behavior on the sphinx rendered scikit-learn.org. See: https://github.com/scikit-learn/scikit-learn/issues/21755 */display: inline-block !important;position: relative;}#sk-container-id-1 div.sk-text-repr-fallback {display: none;}</style><div id=\"sk-container-id-1\" class=\"sk-top-container\"><div class=\"sk-text-repr-fallback\"><pre>DecisionTreeClassifier(max_depth=6)</pre><b>In a Jupyter environment, please rerun this cell to show the HTML representation or trust the notebook. <br />On GitHub, the HTML representation is unable to render, please try loading this page with nbviewer.org.</b></div><div class=\"sk-container\" hidden><div class=\"sk-item\"><div class=\"sk-estimator sk-toggleable\"><input class=\"sk-toggleable__control sk-hidden--visually\" id=\"sk-estimator-id-1\" type=\"checkbox\" checked><label for=\"sk-estimator-id-1\" class=\"sk-toggleable__label sk-toggleable__label-arrow\">DecisionTreeClassifier</label><div class=\"sk-toggleable__content\"><pre>DecisionTreeClassifier(max_depth=6)</pre></div></div></div></div></div>"
      ],
      "text/plain": [
       "DecisionTreeClassifier(max_depth=6)"
      ]
     },
     "execution_count": 41,
     "metadata": {},
     "output_type": "execute_result"
    }
   ],
   "source": [
    "dt.fit(x,y)"
   ]
  },
  {
   "cell_type": "code",
   "execution_count": 44,
   "id": "83f769f7",
   "metadata": {},
   "outputs": [
    {
     "data": {
      "text/plain": [
       "Index(['X_Minimum', 'X_Maximum', 'Y_Minimum', 'Y_Maximum', 'Pixels_Areas',\n",
       "       'X_Perimeter', 'Y_Perimeter', 'Sum_of_Luminosity',\n",
       "       'Minimum_of_Luminosity', 'Maximum_of_Luminosity', 'Length_of_Conveyer',\n",
       "       'TypeOfSteel_A300', 'TypeOfSteel_A400', 'Steel_Plate_Thickness',\n",
       "       'Edges_Index', 'Empty_Index', 'Square_Index', 'Outside_X_Index',\n",
       "       'Edges_X_Index', 'Edges_Y_Index', 'Outside_Global_Index', 'LogOfAreas',\n",
       "       'Log_X_Index', 'Log_Y_Index', 'Orientation_Index', 'Luminosity_Index',\n",
       "       'SigmoidOfAreas'],\n",
       "      dtype='object')"
      ]
     },
     "execution_count": 44,
     "metadata": {},
     "output_type": "execute_result"
    }
   ],
   "source": [
    "x.columns"
   ]
  },
  {
   "cell_type": "code",
   "execution_count": 45,
   "id": "a966a83c",
   "metadata": {},
   "outputs": [],
   "source": [
    "l = ['X_Minimum', 'X_Maximum', 'Y_Minimum', 'Y_Maximum', 'Pixels_Areas',\n",
    "       'X_Perimeter', 'Y_Perimeter', 'Sum_of_Luminosity',\n",
    "       'Minimum_of_Luminosity', 'Maximum_of_Luminosity', 'Length_of_Conveyer',\n",
    "       'TypeOfSteel_A300', 'TypeOfSteel_A400', 'Steel_Plate_Thickness',\n",
    "       'Edges_Index', 'Empty_Index', 'Square_Index', 'Outside_X_Index',\n",
    "       'Edges_X_Index', 'Edges_Y_Index', 'Outside_Global_Index', 'LogOfAreas',\n",
    "       'Log_X_Index', 'Log_Y_Index', 'Orientation_Index', 'Luminosity_Index',\n",
    "       'SigmoidOfAreas']"
   ]
  },
  {
   "cell_type": "code",
   "execution_count": 46,
   "id": "927e05e3",
   "metadata": {},
   "outputs": [
    {
     "data": {
      "image/png": "[encoded data removed]",
      "text/plain": [
       "<Figure size 640x480 with 1 Axes>"
      ]
     },
     "metadata": {},
     "output_type": "display_data"
    }
   ],
   "source": [
    "plot_tree(dt,feature_names=l)\n",
    "plt.show()"
   ]
  },
  {
   "cell_type": "code",
   "execution_count": 55,
   "id": "ec80adf7",
   "metadata": {},
   "outputs": [
    {
     "data": {
      "text/plain": [
       "0.3716961498439126"
      ]
     },
     "execution_count": 55,
     "metadata": {},
     "output_type": "execute_result"
    }
   ],
   "source": [
    "dt.score(xtest,ytest)"
   ]
  },
  {
   "cell_type": "code",
   "execution_count": 50,
   "id": "6a976677",
   "metadata": {},
   "outputs": [],
   "source": [
    "pred_dt = dt.predict(xtest)\n"
   ]
  },
  {
   "cell_type": "code",
   "execution_count": 51,
   "id": "4afceda0",
   "metadata": {},
   "outputs": [
    {
     "name": "stdout",
     "output_type": "stream",
     "text": [
      "              precision    recall  f1-score   support\n",
      "\n",
      "           0       0.00      0.00      0.00       366\n",
      "           1       0.59      0.51      0.55       283\n",
      "           2       0.92      0.84      0.88       888\n",
      "           3       0.80      0.79      0.80       135\n",
      "           4       0.00      0.00      0.00       112\n",
      "           5       0.49      0.45      0.47      1178\n",
      "           6       0.73      0.08      0.14      1653\n",
      "\n",
      "   micro avg       0.68      0.36      0.47      4615\n",
      "   macro avg       0.50      0.38      0.41      4615\n",
      "weighted avg       0.62      0.36      0.40      4615\n",
      " samples avg       0.35      0.35      0.35      4615\n",
      "\n"
     ]
    },
    {
     "name": "stderr",
     "output_type": "stream",
     "text": [
      "C:\\ProgramData\\anaconda3\\Lib\\site-packages\\sklearn\\metrics\\_classification.py:1469: UndefinedMetricWarning: Precision and F-score are ill-defined and being set to 0.0 in labels with no predicted samples. Use `zero_division` parameter to control this behavior.\n",
      "  _warn_prf(average, modifier, msg_start, len(result))\n",
      "C:\\ProgramData\\anaconda3\\Lib\\site-packages\\sklearn\\metrics\\_classification.py:1469: UndefinedMetricWarning: Precision and F-score are ill-defined and being set to 0.0 in samples with no predicted labels. Use `zero_division` parameter to control this behavior.\n",
      "  _warn_prf(average, modifier, msg_start, len(result))\n",
      "C:\\ProgramData\\anaconda3\\Lib\\site-packages\\sklearn\\metrics\\_classification.py:1469: UndefinedMetricWarning: Recall and F-score are ill-defined and being set to 0.0 in samples with no true labels. Use `zero_division` parameter to control this behavior.\n",
      "  _warn_prf(average, modifier, msg_start, len(result))\n"
     ]
    }
   ],
   "source": [
    "print(classification_report(ytest,pred_dt))"
   ]
  },
  {
   "cell_type": "code",
   "execution_count": 54,
   "id": "425d2823",
   "metadata": {},
   "outputs": [],
   "source": [
    "#print(confusion_matrix(ytest,pred_dt))"
   ]
  },
  {
   "cell_type": "code",
   "execution_count": 65,
   "id": "63c2ea43",
   "metadata": {},
   "outputs": [],
   "source": [
    "submission.to_csv('submission2.csv',index=False)"
   ]
  },
  {
   "cell_type": "code",
   "execution_count": 70,
   "id": "f4638b45",
   "metadata": {},
   "outputs": [],
   "source": [
    "from sklearn.ensemble import GradientBoostingClassifier"
   ]
  },
  {
   "cell_type": "code",
   "execution_count": 67,
   "id": "0b7d222b",
   "metadata": {},
   "outputs": [],
   "source": [
    "auc_s = []\n",
    "accuracy = []\n",
    "for i in y_cols:\n",
    "    #model train\n",
    "    model = GradientBoostingClassifier()\n",
    "    model.fit(xtrain,ytrain[i])\n",
    "    #model validation\n",
    "    score = model.score(xtest,ytest[i])\n",
    "    prob = model.predict_proba(xtest)[:,1]\n",
    "    auc = roc_auc_score(ytest[i],prob)\n",
    "    accuracy.append(score)\n",
    "    auc_s.append(auc)\n",
    "    #model prediction\n",
    "    final_prob = model.predict_proba(x_pred)[:,1]\n",
    "    submission[i] = final_prob\n",
    "    "
   ]
  },
  {
   "cell_type": "code",
   "execution_count": 69,
   "id": "63fb82e2",
   "metadata": {},
   "outputs": [],
   "source": [
    "submission.to_csv('sub1.csv',index=False)"
   ]
  },
  {
   "cell_type": "code",
   "execution_count": 71,
   "id": "f55fc234",
   "metadata": {},
   "outputs": [],
   "source": [
    "from xgboost import XGBClassifier"
   ]
  },
  {
   "cell_type": "code",
   "execution_count": 72,
   "id": "06b97679",
   "metadata": {},
   "outputs": [],
   "source": [
    "auc_s = []\n",
    "accuracy = []\n",
    "for i in y_cols:\n",
    "    #model train\n",
    "    model = XGBClassifier()\n",
    "    model.fit(xtrain,ytrain[i])\n",
    "    #model validation\n",
    "    score = model.score(xtest,ytest[i])\n",
    "    prob = model.predict_proba(xtest)[:,1]\n",
    "    auc = roc_auc_score(ytest[i],prob)\n",
    "    accuracy.append(score)\n",
    "    auc_s.append(auc)\n",
    "    #model prediction\n",
    "    final_prob = model.predict_proba(x_pred)[:,1]\n",
    "    submission[i] = final_prob\n",
    "    "
   ]
  },
  {
   "cell_type": "code",
   "execution_count": 73,
   "id": "dc5b82c5",
   "metadata": {},
   "outputs": [],
   "source": [
    "submission.to_csv('sub2.csv',index=False)"
   ]
  },
  {
   "cell_type": "code",
   "execution_count": null,
   "id": "6c9dc451",
   "metadata": {},
   "outputs": [],
   "source": []
  }
 ],
 "metadata": {
  "kernelspec": {
   "display_name": "Python 3 (ipykernel)",
   "language": "python",
   "name": "python3"
  },
  "language_info": {
   "codemirror_mode": {
    "name": "ipython",
    "version": 3
   },
   "file_extension": ".py",
   "mimetype": "text/x-python",
   "name": "python",
   "nbconvert_exporter": "python",
   "pygments_lexer": "ipython3",
   "version": "3.11.4"
  }
 },
 "nbformat": 4,
 "nbformat_minor": 5
}
